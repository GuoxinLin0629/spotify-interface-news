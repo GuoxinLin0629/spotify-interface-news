{
 "cells": [
  {
   "cell_type": "code",
   "execution_count": 148,
   "id": "73a1ccbe-d23c-4c1a-ac0e-dc0c9cf056f4",
   "metadata": {},
   "outputs": [],
   "source": [
    "import spotipy\n",
    "import spotipy.util as util\n",
    "import webbrowser\n",
    "import json\n",
    "import urllib.request\n",
    "from nltk.corpus import stopwords\n",
    "from nltk import pos_tag\n",
    "import requests\n",
    "import collections\n",
    "import nltk"
   ]
  },
  {
   "cell_type": "code",
   "execution_count": 149,
   "id": "fbced61c-1495-4eea-8c20-4065a87ed037",
   "metadata": {},
   "outputs": [],
   "source": [
    "with open (\"news_key.txt\",'r') as key_file:\n",
    "    news_key = key_file.read()\n",
    "key_file.close()\n"
   ]
  },
  {
   "cell_type": "code",
   "execution_count": 150,
   "id": "e3908a2a-cd41-4676-9ec7-545a40b6f73d",
   "metadata": {},
   "outputs": [
    {
     "name": "stdout",
     "output_type": "stream",
     "text": [
      "https://newsapi.org/v2/top-headlines?country=us&category=technology&apiKey=cda165020a74441fbe535a0d6ed3f805\n"
     ]
    }
   ],
   "source": [
    "country = \"us\"\n",
    "category = \"technology\"\n",
    "url = f\"https://newsapi.org/v2/top-headlines?country={country}&category={category}&apiKey={news_key}\"\n",
    "print(url)"
   ]
  },
  {
   "cell_type": "code",
   "execution_count": 151,
   "id": "1978a93c-337d-4ace-b671-0a9e572cf53a",
   "metadata": {},
   "outputs": [],
   "source": [
    "request = urllib.request.Request(url)\n",
    "response = urllib.request.urlopen(request)"
   ]
  },
  {
   "cell_type": "code",
   "execution_count": 152,
   "id": "520f484e-c9fb-46d6-9853-40a9f04f1036",
   "metadata": {},
   "outputs": [
    {
     "name": "stdout",
     "output_type": "stream",
     "text": [
      "{'status': 'ok', 'totalResults': 31, 'articles': [{'source': {'id': None, 'name': '9to5Mac'}, 'author': 'Filipe Espósito', 'title': 'Apple announces Vision Pro international expansion in two more countries - 9to5Mac', 'description': 'Following an exclusive launch in the US in February, Apple began the international expansion of Vision Pro in June. Now...', 'url': 'https://9to5mac.com/2024/10/30/apple-vision-pro-international-expansion/', 'urlToImage': 'https://i0.wp.com/9to5mac.com/wp-content/uploads/sites/6/2024/10/vision-pro-eyesight-2.jpeg?resize=1200%2C628&quality=82&strip=all&ssl=1', 'publishedAt': '2024-10-31T03:14:00Z', 'content': 'Following an exclusive launch in the US in February, Apple began the international expansion of Vision Pro in June. Now the company is ready to bring Apple Vision Pro to even more countries, as the c… [+1321 chars]'}, {'source': {'id': None, 'name': 'KGW.com'}, 'author': 'Katherine Cook', 'title': \"Portland radio DJ survives near-death experience and loses his job before finding a better life: 'I'm lucky' - KGW.com\", 'description': \"Greg Glover has been a fixture at 94.7 KNRK for nearly 20 years. He hopes sharing his story will encourage others facing challenges similar to those he's endured.\", 'url': 'https://www.kgw.com/article/news/community/pacific-storyland/greg-glover-radio-dj-knrk-lost-job-life-alcoholic-pacific-storyland/283-c21c8e1c-fffc-4898-95db-7fc1c1c0f91c', 'urlToImage': 'https://media.kgw.com/assets/KGW/images/baf04fc4-8385-425e-bedd-3fa0147618c8/20241031T003322/baf04fc4-8385-425e-bedd-3fa0147618c8_1140x641.jpg', 'publishedAt': '2024-10-31T01:05:00Z', 'content': \"PORTLAND, Ore. As the sun rises each morning, droves of groggy Portlanders awaken to a voice they've been tuning in to for nearly two decades. It belongs to Greg Glover, a radio DJ for 94.7 KNRK, an … [+8290 chars]\"}, {'source': {'id': None, 'name': 'Eurogamer.net'}, 'author': 'Matt Wales', 'title': 'Call of Duty: Black Ops 6 sets record for \"Game Pass subscriber adds on launch day\", says Microsoft - Eurogamer', 'description': 'Microsoft boss Satya Nadella has called last week\\'s Black Ops 6 launch the \"biggest Call of Duty release ever\", saying …', 'url': 'https://www.eurogamer.net/call-of-duty-black-ops-6-sets-records-for-game-pass-subscriber-adds-on-launch-day-says-microsoft', 'urlToImage': 'https://assetsio.gnwcdn.com/Call-of-Duty-Black-Ops-6-screenshot-from-trailer.jpg?width=1200&height=630&fit=crop&enable=upscale&auto=webp', 'publishedAt': '2024-10-30T23:03:53Z', 'content': 'Microsoft boss Satya Nadella has called last week\\'s Black Ops 6 launch the \"biggest Call of Duty release ever\", saying its arrival set a record for \"Game Pass subscriber adds on launch day.\"\\r\\nNews of… [+2659 chars]'}, {'source': {'id': 'the-verge', 'name': 'The Verge'}, 'author': 'Andrew Webster', 'title': 'Nintendo made a music streaming app for Switch Online subscribers - The Verge', 'description': 'Nintendo has announced a new music streaming app, called Nintendo Music, that’s available on October 30th for Switch Online subscribers.', 'url': 'https://www.theverge.com/2024/10/30/24284073/nintendo-music-streaming-app-switch-online-subscribers', 'urlToImage': 'https://cdn.vox-cdn.com/thumbor/LOdMBkWvL31Ba4R1Io7GKQAiszs=/0x0:2148x1104/1200x628/filters:focal(1074x552:1075x553)/cdn.vox-cdn.com/uploads/chorus_asset/file/25707406/Screen_Shot_2024_10_30_at_6.09.39_PM.png', 'publishedAt': '2024-10-30T22:22:09Z', 'content': 'Nintendo made a music streaming app for Switch Online subscribers\\r\\nNintendo made a music streaming app for Switch Online subscribers\\r\\n / Its not a Switch 2, but the mobile app sure does sound cool.\\r\\n… [+1412 chars]'}, {'source': {'id': 'the-verge', 'name': 'The Verge'}, 'author': 'Umar Shakir', 'title': 'Google’s AI-powered weather app is rolling out to older Pixels - The Verge', 'description': 'Google is rolling out its standalone Weather app with AI-powered summaries to older Pixel devices, including the 6,\\xa06 Pro, 6A,\\xa07, 7 Pro, 7A, 8, 8 Pro, and 8A.', 'url': 'https://www.theverge.com/2024/10/30/24283998/google-weather-app-pixel-8-7-6-ai-summaries', 'urlToImage': 'https://cdn.vox-cdn.com/thumbor/3jUIPqWVD0mN7Mhj4MdLW0QW5AQ=/0x0:1564x1043/1200x628/filters:focal(782x522:783x523)/cdn.vox-cdn.com/uploads/chorus_asset/file/25707311/Screenshot_2024_10_30_at_5.17.50_PM.jpeg', 'publishedAt': '2024-10-30T22:19:30Z', 'content': 'Googles AI-powered weather app is rolling out to older Pixels\\r\\nGoogles AI-powered weather app is rolling out to older Pixels\\r\\n / Googles standalone weather app, which was already included on Pixel 9 … [+1322 chars]'}, {'source': {'id': None, 'name': 'DSOGaming'}, 'author': 'John Papadopoulos', 'title': 'Red Dead Redemption Remastered is CPU-bound on PC, even with an AMD Ryzen 9 7950X3D - DSOGaming', 'description': 'Red Dead Redemption Remastered is CPU-bound on PC, even when gaming at 4K with high-end CPUs like the AMD Ryzen 9 7950X3D.', 'url': 'https://www.dsogaming.com/articles/red-dead-redemption-remaster-is-cpu-bound-on-pc-even-with-an-amd-ryzen-9-7950x3d/', 'urlToImage': 'https://www.dsogaming.com/wp-content/uploads/2024/10/Red-Dead-Redemption-Remastered-feature-1-scaled.jpg', 'publishedAt': '2024-10-30T20:39:38Z', 'content': 'Rockstar has just released Red Dead Redemption Remastered on PC. And, to be honest, I wasn’t planning to cover it. You see, this is a remaster and we don’t usually benchmark them. However, after popu… [+3518 chars]'}, {'source': {'id': 'ars-technica', 'name': 'Ars Technica'}, 'author': 'Dan Goodin', 'title': 'Android Trojan that intercepts voice calls to banks just got more stealthy - Ars Technica', 'description': 'FakeCall malware can reroute calls intended for banks to attacker-controlled numbers.', 'url': 'https://arstechnica.com/information-technology/2024/10/android-trojan-that-intercepts-voice-calls-to-banks-just-got-more-stealthy/', 'urlToImage': 'https://cdn.arstechnica.net/wp-content/uploads/2024/10/infected-phone-1000x648.jpg', 'publishedAt': '2024-10-30T19:59:03Z', 'content': None}, {'source': {'id': 'ign', 'name': 'IGN'}, 'author': 'Matt Kim', 'title': \"PlayStation Urgently Needs To Rethink Its Live-Service Strategy After Concord's Failure - IGN\", 'description': \"Concord's failure and PlayStation's response shows that something is seriously wrong with how Sony is approaching its aggressive live-service games strategy. And something needs to change.\", 'url': 'https://www.ign.com/articles/concord-firewalk-what-playstation-can-learn-from-this-failure', 'urlToImage': 'https://assets-prd.ignimgs.com/2024/10/30/concordlennoxtrailer-ign-blogrol-1730315300208.png?width=1280', 'publishedAt': '2024-10-30T19:20:27Z', 'content': 'After years of console domination, were starting to see cracks in the PlayStation brand as it tries to brute force its way towards live-service supremacy. Theres no clearer example of this than the h… [+8196 chars]'}, {'source': {'id': 'techcrunch', 'name': 'TechCrunch'}, 'author': 'Sarah Perez', 'title': 'WordPress co-founder Matt Mullenweg says a fork would be ‘fantastic’ - TechCrunch', 'description': \"WordPress co-founder and Automattic CEO Matt Mullenweg, speaking on stage at TechCrunch Disrupt 2024 on Wednesday, said he's not worried that the recent\", 'url': 'https://techcrunch.com/2024/10/30/wordpress-co-founder-matt-mullenweg-says-a-fork-would-be-fantastic/', 'urlToImage': 'https://techcrunch.com/wp-content/uploads/2024/10/matt-mullenweg-disrupt.jpg?resize=1200,800', 'publishedAt': '2024-10-30T19:17:22Z', 'content': 'WordPress co-founder and Automattic CEO Matt Mullenweg, speaking on stage at TechCrunch Disrupt 2024 on Wednesday, said he’s not worried that the recent legal drama between his company, Automattic, a… [+2504 chars]'}, {'source': {'id': None, 'name': 'Bloody Disgusting'}, 'author': 'Mike Wilson', 'title': '10 Horror Video Games to Play for Halloween 2024 - Bloody Disgusting', 'description': 'It’s that time of year again. And while watching one of the classics on TV or Blu-ray never gets old, sometimes you want to mix things up for Halloween with video game or two. There’s obviously no shortage of titles to choose from, but if you’re stuck with wh…', 'url': 'https://bloody-disgusting.com/video-games/3836278/here-are-our-choices-of-video-games-to-play-for-halloween-2024/', 'urlToImage': 'https://i0.wp.com/bloody-disgusting.com/wp-content/uploads/2024/10/sh2remake-1.jpg?resize=900%2C580&ssl=1', 'publishedAt': '2024-10-30T18:34:51Z', 'content': 'It’s that time of year again. And while watching one of the classics on TV or Blu-ray never gets old, sometimes you want to mix things up for Halloween with video game or two.\\r\\nThere’s obviously no s… [+7387 chars]'}, {'source': {'id': None, 'name': 'VentureBeat'}, 'author': None, 'title': 'Google’s AI system could change the way we write: InkSight turns handwritten notes digital - VentureBeat', 'description': None, 'url': 'https://venturebeat.com/ai/googles-ai-system-could-change-the-way-we-write-inksight-turns-handwritten-notes-digital/', 'urlToImage': None, 'publishedAt': '2024-10-30T18:22:29Z', 'content': None}, {'source': {'id': None, 'name': '[Removed]'}, 'author': None, 'title': '[Removed]', 'description': '[Removed]', 'url': 'https://removed.com', 'urlToImage': None, 'publishedAt': '2024-10-30T17:30:14Z', 'content': '[Removed]'}, {'source': {'id': None, 'name': 'GameSpot'}, 'author': 'Jason Fanelli', 'title': \"Here's The Full Wizards Deck From Magic: The Gathering's Foundations Beginner's Box - GameSpot\", 'description': 'We have an exclusive look at one of the ten decks inside the new tool for new players.', 'url': 'https://www.gamespot.com/gallery/heres-the-full-wizards-deck-from-magic-the-gatherings-foundations-beginners-box/2900-5897/', 'urlToImage': 'https://www.gamespot.com/a/uploads/screen_kubrick/3/37852/4392257-magic-the-gathering-wizards-cover.jpg', 'publishedAt': '2024-10-30T17:00:00Z', 'content': 'GameSpot may receive revenue from affiliate and advertising partnerships for sharing this content and from purchases through links.'}, {'source': {'id': None, 'name': 'Android Central'}, 'author': 'Vishnu Sarangapurkar', 'title': 'New OnePlus 13 details confirm ultrasonic fingerprint sensor and other display specs - Android Central', 'description': 'After relying on an optical fingerprint sensor for so many years, the OnePlus 13 is making a shift.', 'url': 'https://www.androidcentral.com/phones/oneplus-13-display-specs-and-other-essential-features-surface', 'urlToImage': 'https://cdn.mos.cms.futurecdn.net/LP5pov4NzTmo66ztnFeESh-1200-80.jpg', 'publishedAt': '2024-10-30T16:57:07Z', 'content': 'What you need to know\\r\\n<ul><li>OnePlus 13 to sport BOE X2 display with 120Hz refresh rate and HDR10+ plus Dolby Vision support.</li><li>It has also been confirmed to feature an ultrasonic fingerprint… [+2697 chars]'}, {'source': {'id': None, 'name': 'MacRumors'}, 'author': 'Joe Rossignol', 'title': 'Entire Mac Lineup Now Starts With at Least 16GB RAM, Ending 8GB Era - MacRumors', 'description': 'Apple this week announced new iMac, Mac mini, and MacBook Pro models, and they are all available with a minimum of 16GB of RAM. Apple also announced...', 'url': 'https://www.macrumors.com/2024/10/30/entire-mac-lineup-now-at-least-16gb-ram/', 'urlToImage': 'https://images.macrumors.com/t/DzXlkW_FinXxDJ7EtuGeT0yBrlA=/1600x/article-new/2022/12/apple-silicon-mac-lineup-wwdc-2022-feature-purple.jpg', 'publishedAt': '2024-10-30T16:38:35Z', 'content': 'Apple this week announced new iMac, Mac mini, and MacBook Pro models, and they are all available with a minimum of 16GB of RAM. Apple also announced that the MacBook Air lineup now starts with 16GB o… [+703 chars]'}, {'source': {'id': None, 'name': 'Anime News Network'}, 'author': None, 'title': 'Death Note Series Gets New Online Social Deduction Game for PS5, PS4, PC on November 5 - Anime News Network', 'description': 'Trailer streamed for 10-player DEATH NOTE Killer Within game', 'url': 'https://www.animenewsnetwork.com/news/2024-10-30/death-note-series-gets-new-online-social-deduction-game-for-ps5-ps4-pc-on-november-5/.217340', 'urlToImage': 'https://www.animenewsnetwork.com/thumbnails/crop600x315gK0/youtube/ruA_FjZrPfs.jpg', 'publishedAt': '2024-10-30T16:27:59Z', 'content': \"Bandai Namco Entertainment announced on Wednesday the new DEATH NOTE Killer Within game, based on Tsugumi Ohba and Takeshi Obata's Death Note manga. The online social deduction game will launch for P… [+1405 chars]\"}, {'source': {'id': None, 'name': 'CNET'}, 'author': None, 'title': 'Apple Refreshes MacBook Pro Laptops With New M4 Pro, M4 Max Chips - CNET', 'description': 'The new chips drive additional upgrades, including Thunderbolt 5, increased memory (for AI!) and a much-needed webcam improvement.', 'url': 'https://www.cnet.com/tech/computing/apple-refreshes-macbook-pro-laptops-with-new-m4-pro-m4-max-chips/', 'urlToImage': 'https://www.cnet.com/a/img/resize/a1586138aeaf6d842a3882c86a77deb16be846c1/hub/2024/10/29/3b32c431-dc81-41cb-a5a6-8d6a9c590c09/apple-mac-pro-m4-late-2024.jpg?auto=webp&fit=crop&height=675&width=1200', 'publishedAt': '2024-10-30T16:00:00Z', 'content': \"Apple's new M4 processors promise generation-over-generation improvements to CPU and GPU performance for its\\xa0MacBook Pro 14\\xa0and\\xa0MacBook Pro 16\\xa0laptops. The new M4 Pro and Max chips, which follow the … [+2728 chars]\"}, {'source': {'id': None, 'name': '[Removed]'}, 'author': None, 'title': '[Removed]', 'description': '[Removed]', 'url': 'https://removed.com', 'urlToImage': None, 'publishedAt': '2024-10-30T15:20:02Z', 'content': '[Removed]'}, {'source': {'id': None, 'name': '9to5Mac'}, 'author': 'Ryan Christoffel', 'title': 'New Pokémon TCG app now available for iPhone - 9to5Mac', 'description': 'Nintendo has released a new Pokémon TCG app for iPhones, bringing the experience of collecting and playing with Pokémon cards to iOS.', 'url': 'https://9to5mac.com/2024/10/30/new-pokemon-tcg-app-now-available-for-iphone/', 'urlToImage': 'https://i0.wp.com/9to5mac.com/wp-content/uploads/sites/6/2024/08/pokemon-tcg-pocket-app.jpg?resize=1200%2C628&quality=82&strip=all&ssl=1', 'publishedAt': '2024-10-30T14:51:00Z', 'content': 'Nintendo has just launched a new Pokémon TCG Pocket app for iPhone. The app brings the experience of collecting and playing with Pokémon cards into the digital realm. Heres what it can do.\\r\\nThis summ… [+1246 chars]'}, {'source': {'id': 'the-verge', 'name': 'The Verge'}, 'author': 'David Pierce', 'title': 'The Alexa Skills revolution that wasn’t - The Verge', 'description': 'Ever since the launch of the first Amazon Echo in 2014, the company has been trying to turn Alexa Skills into a new way to use a voice assistant —\\xa0and apps.', 'url': 'https://www.theverge.com/24283253/amazon-alexa-skills-app-store-10th-anniversary', 'urlToImage': 'https://cdn.vox-cdn.com/thumbor/4CS1ClRFO6UGsCyURN6kS-NrMZ4=/0x0:2040x1360/1200x628/filters:focal(1020x680:1021x681)/cdn.vox-cdn.com/uploads/chorus_asset/file/25696567/247324_10_years_of_Alexa_MWang__0001_SKILLS.jpg', 'publishedAt': '2024-10-30T14:30:00Z', 'content': 'Ten years ago, Amazon imagined a future beyond apps \\xa0and it had the idea basically right. But the perfect ambient computer remains frustratingly far away.\\r\\nByDavid Pierce, editor-at-large and Vergeca… [+10831 chars]'}]}\n"
     ]
    }
   ],
   "source": [
    "news_articles = json.loads(response.read())\n",
    "print(news_articles)"
   ]
  },
  {
   "cell_type": "code",
   "execution_count": 153,
   "id": "5e96ca61-ed3d-482d-80e7-0d4ff61823e7",
   "metadata": {},
   "outputs": [],
   "source": [
    "article_titles = [articles['title'] for articles in headlines['articles']]"
   ]
  },
  {
   "cell_type": "code",
   "execution_count": 154,
   "id": "285d9078-e25a-4fb8-bf1e-0e6b38643083",
   "metadata": {},
   "outputs": [
    {
     "name": "stderr",
     "output_type": "stream",
     "text": [
      "[nltk_data] Downloading package averaged_perceptron_tagger to\n",
      "[nltk_data]     C:\\Users\\Guoxin Lin\\AppData\\Roaming\\nltk_data...\n",
      "[nltk_data]   Package averaged_perceptron_tagger is already up-to-\n",
      "[nltk_data]       date!\n"
     ]
    },
    {
     "data": {
      "text/plain": [
       "True"
      ]
     },
     "execution_count": 154,
     "metadata": {},
     "output_type": "execute_result"
    }
   ],
   "source": [
    "nltk.download('averaged_perceptron_tagger')"
   ]
  },
  {
   "cell_type": "code",
   "execution_count": 155,
   "id": "fd98747a-3387-44fe-a25d-029d392a4f77",
   "metadata": {},
   "outputs": [
    {
     "data": {
      "text/plain": [
       "['Harris', 'Trump’s', 'Election', 'Day']"
      ]
     },
     "execution_count": 155,
     "metadata": {},
     "output_type": "execute_result"
    }
   ],
   "source": [
    "tagged_words = pos_tag(article_titles[0].split())\n",
    "proper_nouns = [word for word,tag in tagged_words if tag == 'NNP']\n",
    "proper_nouns\n"
   ]
  },
  {
   "cell_type": "code",
   "execution_count": 156,
   "id": "6b4caddf-96cd-47a8-a343-a41111a5632f",
   "metadata": {},
   "outputs": [
    {
     "data": {
      "text/plain": [
       "['Harris',\n",
       " 'Trump’s',\n",
       " 'Election',\n",
       " 'Day',\n",
       " 'Harris',\n",
       " 'Trump’s',\n",
       " 'Election',\n",
       " 'Day',\n",
       " 'Harris',\n",
       " 'Trump’s',\n",
       " 'Election',\n",
       " 'Day',\n",
       " 'Harris',\n",
       " 'Trump’s',\n",
       " 'Election',\n",
       " 'Day',\n",
       " 'Harris',\n",
       " 'Trump’s',\n",
       " 'Election',\n",
       " 'Day',\n",
       " 'Harris',\n",
       " 'Trump’s',\n",
       " 'Election',\n",
       " 'Day',\n",
       " 'Harris',\n",
       " 'Trump’s',\n",
       " 'Election',\n",
       " 'Day',\n",
       " 'Harris',\n",
       " 'Trump’s',\n",
       " 'Election',\n",
       " 'Day',\n",
       " 'Harris',\n",
       " 'Trump’s',\n",
       " 'Election',\n",
       " 'Day',\n",
       " 'Harris',\n",
       " 'Trump’s',\n",
       " 'Election',\n",
       " 'Day',\n",
       " 'Harris',\n",
       " 'Trump’s',\n",
       " 'Election',\n",
       " 'Day',\n",
       " 'Harris',\n",
       " 'Trump’s',\n",
       " 'Election',\n",
       " 'Day',\n",
       " 'Harris',\n",
       " 'Trump’s',\n",
       " 'Election',\n",
       " 'Day',\n",
       " 'Harris',\n",
       " 'Trump’s',\n",
       " 'Election',\n",
       " 'Day',\n",
       " 'Harris',\n",
       " 'Trump’s',\n",
       " 'Election',\n",
       " 'Day',\n",
       " 'Harris',\n",
       " 'Trump’s',\n",
       " 'Election',\n",
       " 'Day',\n",
       " 'Harris',\n",
       " 'Trump’s',\n",
       " 'Election',\n",
       " 'Day',\n",
       " 'Harris',\n",
       " 'Trump’s',\n",
       " 'Election',\n",
       " 'Day',\n",
       " 'Harris',\n",
       " 'Trump’s',\n",
       " 'Election',\n",
       " 'Day',\n",
       " 'Harris',\n",
       " 'Trump’s',\n",
       " 'Election',\n",
       " 'Day']"
      ]
     },
     "execution_count": 156,
     "metadata": {},
     "output_type": "execute_result"
    }
   ],
   "source": [
    "keywords = []\n",
    "for article_title in article_titles:\n",
    "    tagged_word = pos_tag(article_title.split())\n",
    "    keywords.extend([word for word,tag in tagged_words if tag == 'NNP'])\n",
    "\n",
    "keywords"
   ]
  },
  {
   "cell_type": "code",
   "execution_count": 161,
   "id": "9ae736ca-557e-4250-9971-0521fb7ab80c",
   "metadata": {},
   "outputs": [
    {
     "data": {
      "text/plain": [
       "Counter({'Harris': 20, 'Trump’s': 20, 'Election': 20, 'Day': 20})"
      ]
     },
     "execution_count": 161,
     "metadata": {},
     "output_type": "execute_result"
    }
   ],
   "source": [
    "word_counter = collections.Counter(keywords)\n",
    "word_counter"
   ]
  },
  {
   "cell_type": "code",
   "execution_count": 165,
   "id": "c88c99e9-0f78-4bf8-92ba-41d62e712878",
   "metadata": {},
   "outputs": [],
   "source": [
    "credentials = \"spotify_keys.json\"\n",
    "with open(credentials, \"r\") as keys:\n",
    "    api_tokens = json.load(keys)"
   ]
  },
  {
   "cell_type": "code",
   "execution_count": 170,
   "id": "7d31364a-a8e2-4ab7-94ac-8b5cb83220d1",
   "metadata": {},
   "outputs": [],
   "source": [
    "client_id = api_tokens[\"client_id\"]\n",
    "client_secret = api_tokens[\"client_secret\"]\n",
    "redirectURI = api_tokens[\"redirect\"]\n",
    "username = api_tokens[\"username\"]"
   ]
  },
  {
   "cell_type": "code",
   "execution_count": null,
   "id": "5e444c70-9d4e-4ac7-bec4-20d29893bd29",
   "metadata": {},
   "outputs": [
    {
     "name": "stdin",
     "output_type": "stream",
     "text": [
      "Enter the URL you were redirected to:  https://accounts.spotify.com/en/authorize?client_id=0ae21d35959544afa955c205a3917ac7&response_type=code&redirect_uri=http%3A%2F%2Fgoogle.com%2F&scope=user-read-private+user-read-playback-state+user-modify-playback-state+playlist-modify-public+user-library-read\n"
     ]
    }
   ],
   "source": [
    "scope = 'user-read-private user-read-playback-state user-modify-playback-state playlist-modify-public user-library-read'\n",
    "token = util.prompt_for_user_token(username, scope, client_id=client_id,\n",
    "                           client_secret=client_secret,\n",
    "                           redirect_uri=redirectURI)\n"
   ]
  },
  {
   "cell_type": "code",
   "execution_count": null,
   "id": "e201df1d-4cfc-4fae-869c-01b665c085b6",
   "metadata": {},
   "outputs": [],
   "source": []
  }
 ],
 "metadata": {
  "kernelspec": {
   "display_name": "Python 3 (ipykernel)",
   "language": "python",
   "name": "python3"
  },
  "language_info": {
   "codemirror_mode": {
    "name": "ipython",
    "version": 3
   },
   "file_extension": ".py",
   "mimetype": "text/x-python",
   "name": "python",
   "nbconvert_exporter": "python",
   "pygments_lexer": "ipython3",
   "version": "3.12.7"
  }
 },
 "nbformat": 4,
 "nbformat_minor": 5
}
